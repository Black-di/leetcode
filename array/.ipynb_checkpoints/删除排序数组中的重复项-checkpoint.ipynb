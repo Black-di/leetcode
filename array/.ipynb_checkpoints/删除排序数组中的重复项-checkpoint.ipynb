{
 "cells": [
  {
   "cell_type": "markdown",
   "metadata": {},
   "source": [
    "# 题目说明："
   ]
  },
  {
   "cell_type": "markdown",
   "metadata": {},
   "source": [
    "### 给定一个排序数组，你需要在原地删除重复出现的元素，使得每个元素只出现一次，返回移除后数组的新长度。\n",
    "\n",
    "### 不要使用额外的数组空间，你必须在原地修改输入数组并在使用 O(1) 额外空间的条件下完成。\n",
    "\n",
    "### 示例 1:\n",
    "\n",
    "    给定数组 nums = [1,1,2], \n",
    "\n",
    "    函数应该返回新的长度 2, 并且原数组 nums 的前两个元素被修改为 1, 2。 \n",
    "\n",
    "    你不需要考虑数组中超出新长度后面的元素。\n",
    "\n",
    "### 示例 2:\n",
    "\n",
    "    给定 nums = [0,0,1,1,1,2,2,3,3,4],\n",
    "\n",
    "    函数应该返回新的长度 5, 并且原数组 nums 的前五个元素被修改为 0, 1, 2, 3, 4。\n",
    "\n",
    "    你不需要考虑数组中超出新长度后面的元素。\n",
    "\n",
    "### 说明:\n",
    "\n",
    "#### 为什么返回数值是整数，但输出的答案是数组呢?\n",
    "\n",
    "    请注意，输入数组是以“引用”方式传递的，这意味着在函数里修改输入数组对于调用者是可见的。\n",
    "\n",
    "    你可以想象内部操作如下:\n",
    "\n",
    "    // nums 是以“引用”方式传递的。也就是说，不对实参做任何拷贝\n",
    "    int len = removeDuplicates(nums);\n",
    "    // 在函数里修改输入数组对于调用者是可见的。\n",
    "    // 根据你的函数返回的长度, 它会打印出数组中该长度范围内的所有元素。\n",
    "    for (int i = 0; i < len; i++) {\n",
    "        print(nums[i]);\n",
    "    }"
   ]
  },
  {
   "cell_type": "markdown",
   "metadata": {},
   "source": [
    "# 解法一: 利用Python函数"
   ]
  },
  {
   "cell_type": "code",
   "execution_count": 1,
   "metadata": {},
   "outputs": [],
   "source": [
    "class Solution:\n",
    "    def removeDuplicates(self, nums):\n",
    "        \"\"\"\n",
    "        :type nums: List[int]\n",
    "        pe: int\n",
    "        \"\"\"\n",
    "        a = list(set(nums))\n",
    "        a = sorted(a)\n",
    "        for i in range(len(a)):\n",
    "            nums[i] = a[i]\n",
    "        return len(a)"
   ]
  },
  {
   "cell_type": "markdown",
   "metadata": {},
   "source": [
    "## 说明:\n",
    "\n",
    "#### 1. 采用set的特性----元素不重复，将list转换为set使其元素不重复，在将其转换为list\n",
    "\n",
    "#### 2. 由题可以nums为有序数组则最后输出也为有序list，而使用set得到list是无序的，所以用sorted排序\n",
    "\n",
    "#### 3. nums是以引用的方式传递，也就是说nums是地址，可以通过sums[i]的方式来调用和更改原list.\n",
    "####     这里不能直接使用：\n",
    "      nums = list(set(nums))\n",
    "####     因为这样nums的值实际已经改变了，它所指向的内存空间已经不是原list，因此需要a作为中间传递"
   ]
  },
  {
   "cell_type": "markdown",
   "metadata": {},
   "source": [
    "# 解法二：双指针法"
   ]
  },
  {
   "cell_type": "code",
   "execution_count": 3,
   "metadata": {},
   "outputs": [],
   "source": [
    "class Solution:\n",
    "    def removeDuplicates(self, nums):\n",
    "        \"\"\"\n",
    "        :type nums: List[int]\n",
    "        pe: int\n",
    "        \"\"\"\n",
    "        index = 0\n",
    "        if len(nums) > 0:\n",
    "            for i in range(len(nums)):\n",
    "                if nums[index] != nums[i]:\n",
    "                    nums[index + 1] = nums[i]\n",
    "                    index = index + 1\n",
    "            return index+1\n",
    "        else:\n",
    "            return index"
   ]
  },
  {
   "cell_type": "markdown",
   "metadata": {},
   "source": [
    "#### 数组完成排序后，我们可以放置两个指针 i 和 j，其中 i 是慢指针，而 j 是快指针。只要 nums[i]=nums[j]，我们就增加 j 以跳过重复项。\n",
    "#### 当我们遇到 nums[j] != nums[i] 时，跳过重复项的运行已经结束，因此我们必须把它 nums[j] 的值复制到 nums[i + 1]。\n",
    "#### 然后递增 i，接着我们将再次重复相同的过程，直到 j 到达数组的末尾为止。\n"
   ]
  },
  {
   "cell_type": "markdown",
   "metadata": {},
   "source": [
    "# 总结：\n",
    "\n",
    "#### 经过测试双指针法要比函数法快很多，但是由于Python语言本身的问题效果不是很明显，但是使用c或java会快很多\n",
    "\n",
    "#### 这类方法的大致思想是要尽量减少遍历的次数以及减少每次遍历的操作，双指针法的优势就是整个过程只遍历了N次，\n",
    "\n",
    "#### 并且只在发现不同时才去进行数值交换，大大减少了操作的步骤"
   ]
  }
 ],
 "metadata": {
  "kernelspec": {
   "display_name": "Python [default]",
   "language": "python",
   "name": "python3"
  },
  "language_info": {
   "codemirror_mode": {
    "name": "ipython",
    "version": 3
   },
   "file_extension": ".py",
   "mimetype": "text/x-python",
   "name": "python",
   "nbconvert_exporter": "python",
   "pygments_lexer": "ipython3",
   "version": "3.6.6"
  }
 },
 "nbformat": 4,
 "nbformat_minor": 2
}
